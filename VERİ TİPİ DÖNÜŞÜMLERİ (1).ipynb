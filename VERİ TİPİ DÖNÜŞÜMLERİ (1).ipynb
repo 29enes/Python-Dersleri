{
 "cells": [
  {
   "cell_type": "markdown",
   "metadata": {},
   "source": [
    "# VERİ TİPLERİ DÖNÜŞÜMÜ"
   ]
  },
  {
   "cell_type": "markdown",
   "metadata": {},
   "source": [
    "Python programlam dilinde veri türleri arasında dönüşüm yapılabilir. Örneğin integer değeri float değerine veya string değerini \n",
    "integer değerine çevirme gibi \n",
    "\n",
    "işlemeler yapabiliriz. Bu sayede kodalama yaparken yazılımcıya esneklik sağlanmış olur."
   ]
  },
  {
   "cell_type": "code",
   "execution_count": 2,
   "metadata": {},
   "outputs": [
    {
     "name": "stdout",
     "output_type": "stream",
     "text": [
      "29.0\n",
      "<class 'int'>\n"
     ]
    }
   ],
   "source": [
    "#Integer değerini float'a çevirme.\n",
    "a=29\n",
    "print(float(a))\n",
    "print(type(a))"
   ]
  },
  {
   "cell_type": "code",
   "execution_count": 8,
   "metadata": {},
   "outputs": [
    {
     "name": "stdout",
     "output_type": "stream",
     "text": [
      "78\n",
      "<class 'float'>\n"
     ]
    }
   ],
   "source": [
    "#Float değerini integer'a çevirme.\n",
    "b=78.6587;\n",
    "print(int(b))\n",
    "print(type(b))"
   ]
  },
  {
   "cell_type": "code",
   "execution_count": 9,
   "metadata": {},
   "outputs": [
    {
     "name": "stdout",
     "output_type": "stream",
     "text": [
      "87625\n",
      "<class 'int'>\n",
      "87625\n",
      "<class 'str'>\n"
     ]
    }
   ],
   "source": [
    "#Integer'ı stringe çevirme. Sayıları karakter dizisine çevirir.  Yani her rakam artık bir karakter olur.\n",
    "a=87625\n",
    "print(a)\n",
    "print(type(a))\n",
    "b=(str(a))\n",
    "print(b)\n",
    "print(type(b))"
   ]
  },
  {
   "cell_type": "code",
   "execution_count": 10,
   "metadata": {},
   "outputs": [
    {
     "name": "stdout",
     "output_type": "stream",
     "text": [
      "96385\n",
      "<class 'str'>\n",
      "<class 'int'>\n",
      "96385\n"
     ]
    }
   ],
   "source": [
    "#String'leri integera çevirme.\n",
    "a=\"96385\"\n",
    "print(a)\n",
    "print(type(a))\n",
    "b=(int(a))\n",
    "print(type(b))\n",
    "print(b)"
   ]
  },
  {
   "cell_type": "code",
   "execution_count": 11,
   "metadata": {},
   "outputs": [
    {
     "name": "stdout",
     "output_type": "stream",
     "text": [
      "14524\n",
      "<class 'str'>\n",
      "<class 'float'>\n",
      "14524.0\n"
     ]
    }
   ],
   "source": [
    "#String'leri floata çevirme.\n",
    "a=\"14524\"\n",
    "print(a)\n",
    "print(type(a))\n",
    "b=(float(a))\n",
    "print(type(b))\n",
    "print(b)"
   ]
  },
  {
   "cell_type": "code",
   "execution_count": null,
   "metadata": {},
   "outputs": [],
   "source": []
  }
 ],
 "metadata": {
  "kernelspec": {
   "display_name": "Python 3",
   "language": "python",
   "name": "python3"
  },
  "language_info": {
   "codemirror_mode": {
    "name": "ipython",
    "version": 3
   },
   "file_extension": ".py",
   "mimetype": "text/x-python",
   "name": "python",
   "nbconvert_exporter": "python",
   "pygments_lexer": "ipython3",
   "version": "3.7.6"
  }
 },
 "nbformat": 4,
 "nbformat_minor": 4
}
